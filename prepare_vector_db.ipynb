{
 "cells": [
  {
   "cell_type": "code",
   "execution_count": 1,
   "metadata": {},
   "outputs": [],
   "source": [
    "# %pip install ctransformers\n",
    "# %pip install transformers\n",
    "# %pip install langchain\n",
    "# %pip install langchain-community\n",
    "# %pip install torch\n",
    "# %pip install pypdf\n",
    "# %pip install sentence-transformers\n",
    "# %pip install gpt4all\n",
    "# %pip install faiss-cpu\n",
    "# %pip install openai"
   ]
  },
  {
   "cell_type": "code",
   "execution_count": 2,
   "metadata": {},
   "outputs": [],
   "source": [
    "from langchain.text_splitter import RecursiveCharacterTextSplitter, CharacterTextSplitter\n",
    "from langchain_community.document_loaders import PyPDFLoader, DirectoryLoader\n",
    "from langchain_community.vectorstores import FAISS\n",
    "from langchain_community.embeddings import GPT4AllEmbeddings\n",
    "from langchain.embeddings import HuggingFaceEmbeddings"
   ]
  },
  {
   "cell_type": "code",
   "execution_count": 3,
   "metadata": {},
   "outputs": [],
   "source": [
    "\n",
    "pdf_data_path = \"data\"\n",
    "vector_db_path = \"vectorstores/db_faiss\""
   ]
  },
  {
   "cell_type": "code",
   "execution_count": 4,
   "metadata": {},
   "outputs": [],
   "source": [
    "def create_db_from_text():\n",
    "    raw_text = \"\"\"Cá nhân kinh doanh bất động sản quy mô nhỏ có thể chỉ được bán, cho thuê 3-5 nhà, căn hộ trong một năm, nếu vượt phải lập doanh nghiệp.\n",
    "    Đề xuất trên đang được Bộ Xây dựng nêu trong dự thảo Nghị định quy định chi tiết và hướng dẫn thi hành một số điều của Luật Kinh doanh bất động sản 2023. Dự thảo được lấy ý kiến góp ý đến hết ngày 27/4.\"\"\"\n",
    "\n",
    "    text_splitter = CharacterTextSplitter(\n",
    "        separator=\"\\n\",\n",
    "        chunk_size=512,\n",
    "        chunk_overlap=50,\n",
    "        length_function=len\n",
    "\n",
    "    )\n",
    "\n",
    "    chunks = text_splitter.split_text(raw_text)\n",
    "\n",
    "    # Embeding\n",
    "    embedding_model = HuggingFaceEmbeddings(model_name = \"intfloat/multilingual-e5-small\")\n",
    "\n",
    "    db = FAISS.from_texts(texts=chunks, embedding=embedding_model)\n",
    "    db.save_local(vector_db_path)\n",
    "    return db\n",
    "\n",
    "\n",
    "def create_db_from_files():\n",
    "    loader = DirectoryLoader(pdf_data_path, glob=\"*.pdf\", loader_cls = PyPDFLoader)\n",
    "    documents = loader.load()\n",
    "\n",
    "    text_splitter = RecursiveCharacterTextSplitter(chunk_size=512, chunk_overlap=50)\n",
    "    chunks = text_splitter.split_documents(documents)\n",
    "\n",
    "    # Embeding\n",
    "    embedding_model = HuggingFaceEmbeddings(model_name = \"intfloat/multilingual-e5-small\")\n",
    "    db = FAISS.from_documents(chunks, embedding_model)\n",
    "    db.save_local(vector_db_path)\n",
    "    return db"
   ]
  },
  {
   "cell_type": "code",
   "execution_count": 5,
   "metadata": {
    "scrolled": true
   },
   "outputs": [
    {
     "name": "stderr",
     "output_type": "stream",
     "text": [
      "/root/dev/genai/.venv/lib/python3.10/site-packages/tqdm/auto.py:21: TqdmWarning: IProgress not found. Please update jupyter and ipywidgets. See https://ipywidgets.readthedocs.io/en/stable/user_install.html\n",
      "  from .autonotebook import tqdm as notebook_tqdm\n"
     ]
    },
    {
     "data": {
      "text/plain": [
       "<langchain_community.vectorstores.faiss.FAISS at 0x7f3654a08340>"
      ]
     },
     "execution_count": 5,
     "metadata": {},
     "output_type": "execute_result"
    }
   ],
   "source": [
    "create_db_from_files()"
   ]
  },
  {
   "cell_type": "code",
   "execution_count": null,
   "metadata": {},
   "outputs": [],
   "source": []
  }
 ],
 "metadata": {
  "kernelspec": {
   "display_name": "Python 3 (ipykernel)",
   "language": "python",
   "name": "python3"
  },
  "language_info": {
   "codemirror_mode": {
    "name": "ipython",
    "version": 3
   },
   "file_extension": ".py",
   "mimetype": "text/x-python",
   "name": "python",
   "nbconvert_exporter": "python",
   "pygments_lexer": "ipython3",
   "version": "3.10.12"
  }
 },
 "nbformat": 4,
 "nbformat_minor": 4
}
